{
 "cells": [
  {
   "cell_type": "markdown",
   "metadata": {},
   "source": [
    "# Stock Price Prediction using Machine Learning Algorithm LSTM"
   ]
  },
  {
   "cell_type": "code",
   "execution_count": 40,
   "metadata": {},
   "outputs": [],
   "source": [
    "# Description: This program uses an artificial recurrent neural network called Long Short Term Memory (LSTM)\n",
    "#            to predict the closing stock price of TESLA using the past 60 day stock price."
   ]
  },
  {
   "cell_type": "code",
   "execution_count": 60,
   "metadata": {},
   "outputs": [],
   "source": [
    "# Import the libraries\n",
    "import math\n",
    "import pandas_datareader as web\n",
    "import numpy as np\n",
    "import pandas as pd\n",
    "from sklearn.preprocessing import MinMaxScaler\n",
    "from keras.models import Sequential\n",
    "from keras.layers import Dense, LSTM\n",
    "import matplotlib.pyplot as plt"
   ]
  },
  {
   "cell_type": "code",
   "execution_count": 42,
   "metadata": {},
   "outputs": [],
   "source": [
    "plt.style.use('fivethirtyeight')"
   ]
  },
  {
   "cell_type": "code",
   "execution_count": 62,
   "metadata": {},
   "outputs": [
    {
     "data": {
      "text/html": [
       "<div>\n",
       "<style scoped>\n",
       "    .dataframe tbody tr th:only-of-type {\n",
       "        vertical-align: middle;\n",
       "    }\n",
       "\n",
       "    .dataframe tbody tr th {\n",
       "        vertical-align: top;\n",
       "    }\n",
       "\n",
       "    .dataframe thead th {\n",
       "        text-align: right;\n",
       "    }\n",
       "</style>\n",
       "<table border=\"1\" class=\"dataframe\">\n",
       "  <thead>\n",
       "    <tr style=\"text-align: right;\">\n",
       "      <th></th>\n",
       "      <th>High</th>\n",
       "      <th>Low</th>\n",
       "      <th>Open</th>\n",
       "      <th>Close</th>\n",
       "      <th>Volume</th>\n",
       "      <th>Adj Close</th>\n",
       "    </tr>\n",
       "    <tr>\n",
       "      <th>Date</th>\n",
       "      <th></th>\n",
       "      <th></th>\n",
       "      <th></th>\n",
       "      <th></th>\n",
       "      <th></th>\n",
       "      <th></th>\n",
       "    </tr>\n",
       "  </thead>\n",
       "  <tbody>\n",
       "    <tr>\n",
       "      <th>2015-01-02</th>\n",
       "      <td>44.650002</td>\n",
       "      <td>42.652000</td>\n",
       "      <td>44.574001</td>\n",
       "      <td>43.862000</td>\n",
       "      <td>23822000.0</td>\n",
       "      <td>43.862000</td>\n",
       "    </tr>\n",
       "    <tr>\n",
       "      <th>2015-01-05</th>\n",
       "      <td>43.299999</td>\n",
       "      <td>41.431999</td>\n",
       "      <td>42.910000</td>\n",
       "      <td>42.018002</td>\n",
       "      <td>26842500.0</td>\n",
       "      <td>42.018002</td>\n",
       "    </tr>\n",
       "    <tr>\n",
       "      <th>2015-01-06</th>\n",
       "      <td>42.840000</td>\n",
       "      <td>40.841999</td>\n",
       "      <td>42.012001</td>\n",
       "      <td>42.256001</td>\n",
       "      <td>31309500.0</td>\n",
       "      <td>42.256001</td>\n",
       "    </tr>\n",
       "    <tr>\n",
       "      <th>2015-01-07</th>\n",
       "      <td>42.956001</td>\n",
       "      <td>41.956001</td>\n",
       "      <td>42.669998</td>\n",
       "      <td>42.189999</td>\n",
       "      <td>14842000.0</td>\n",
       "      <td>42.189999</td>\n",
       "    </tr>\n",
       "    <tr>\n",
       "      <th>2015-01-08</th>\n",
       "      <td>42.759998</td>\n",
       "      <td>42.001999</td>\n",
       "      <td>42.562000</td>\n",
       "      <td>42.124001</td>\n",
       "      <td>17212500.0</td>\n",
       "      <td>42.124001</td>\n",
       "    </tr>\n",
       "    <tr>\n",
       "      <th>...</th>\n",
       "      <td>...</td>\n",
       "      <td>...</td>\n",
       "      <td>...</td>\n",
       "      <td>...</td>\n",
       "      <td>...</td>\n",
       "      <td>...</td>\n",
       "    </tr>\n",
       "    <tr>\n",
       "      <th>2020-12-18</th>\n",
       "      <td>695.000000</td>\n",
       "      <td>628.539978</td>\n",
       "      <td>668.900024</td>\n",
       "      <td>695.000000</td>\n",
       "      <td>222126200.0</td>\n",
       "      <td>695.000000</td>\n",
       "    </tr>\n",
       "    <tr>\n",
       "      <th>2020-12-21</th>\n",
       "      <td>668.500000</td>\n",
       "      <td>646.070007</td>\n",
       "      <td>666.239990</td>\n",
       "      <td>649.859985</td>\n",
       "      <td>58045300.0</td>\n",
       "      <td>649.859985</td>\n",
       "    </tr>\n",
       "    <tr>\n",
       "      <th>2020-12-22</th>\n",
       "      <td>649.880005</td>\n",
       "      <td>614.229980</td>\n",
       "      <td>648.000000</td>\n",
       "      <td>640.340027</td>\n",
       "      <td>51716000.0</td>\n",
       "      <td>640.340027</td>\n",
       "    </tr>\n",
       "    <tr>\n",
       "      <th>2020-12-23</th>\n",
       "      <td>651.500000</td>\n",
       "      <td>622.570007</td>\n",
       "      <td>632.200012</td>\n",
       "      <td>645.979980</td>\n",
       "      <td>33173000.0</td>\n",
       "      <td>645.979980</td>\n",
       "    </tr>\n",
       "    <tr>\n",
       "      <th>2020-12-24</th>\n",
       "      <td>666.090027</td>\n",
       "      <td>641.000000</td>\n",
       "      <td>642.989990</td>\n",
       "      <td>661.770020</td>\n",
       "      <td>22865600.0</td>\n",
       "      <td>661.770020</td>\n",
       "    </tr>\n",
       "  </tbody>\n",
       "</table>\n",
       "<p>1507 rows × 6 columns</p>\n",
       "</div>"
      ],
      "text/plain": [
       "                  High         Low        Open       Close       Volume  \\\n",
       "Date                                                                      \n",
       "2015-01-02   44.650002   42.652000   44.574001   43.862000   23822000.0   \n",
       "2015-01-05   43.299999   41.431999   42.910000   42.018002   26842500.0   \n",
       "2015-01-06   42.840000   40.841999   42.012001   42.256001   31309500.0   \n",
       "2015-01-07   42.956001   41.956001   42.669998   42.189999   14842000.0   \n",
       "2015-01-08   42.759998   42.001999   42.562000   42.124001   17212500.0   \n",
       "...                ...         ...         ...         ...          ...   \n",
       "2020-12-18  695.000000  628.539978  668.900024  695.000000  222126200.0   \n",
       "2020-12-21  668.500000  646.070007  666.239990  649.859985   58045300.0   \n",
       "2020-12-22  649.880005  614.229980  648.000000  640.340027   51716000.0   \n",
       "2020-12-23  651.500000  622.570007  632.200012  645.979980   33173000.0   \n",
       "2020-12-24  666.090027  641.000000  642.989990  661.770020   22865600.0   \n",
       "\n",
       "             Adj Close  \n",
       "Date                    \n",
       "2015-01-02   43.862000  \n",
       "2015-01-05   42.018002  \n",
       "2015-01-06   42.256001  \n",
       "2015-01-07   42.189999  \n",
       "2015-01-08   42.124001  \n",
       "...                ...  \n",
       "2020-12-18  695.000000  \n",
       "2020-12-21  649.859985  \n",
       "2020-12-22  640.340027  \n",
       "2020-12-23  645.979980  \n",
       "2020-12-24  661.770020  \n",
       "\n",
       "[1507 rows x 6 columns]"
      ]
     },
     "execution_count": 62,
     "metadata": {},
     "output_type": "execute_result"
    }
   ],
   "source": [
    "# Get the stock quote\n",
    "df = web.DataReader('TSLA', data_source='yahoo', start='2015-01-01', end='2020-12-24')\n",
    "# show data\n",
    "df"
   ]
  },
  {
   "cell_type": "code",
   "execution_count": 63,
   "metadata": {},
   "outputs": [
    {
     "data": {
      "text/plain": [
       "(1507, 6)"
      ]
     },
     "execution_count": 63,
     "metadata": {},
     "output_type": "execute_result"
    }
   ],
   "source": [
    "#Get the number of rows and columns\n",
    "df.shape"
   ]
  },
  {
   "cell_type": "code",
   "execution_count": 64,
   "metadata": {},
   "outputs": [
    {
     "data": {
      "text/plain": [
       "Text(0, 0.5, 'Close Price (USD)')"
      ]
     },
     "execution_count": 64,
     "metadata": {},
     "output_type": "execute_result"
    },
    {
     "data": {
      "image/png": "[encoded data removed]",
      "text/plain": [
       "<Figure size 864x432 with 1 Axes>"
      ]
     },
     "metadata": {},
     "output_type": "display_data"
    }
   ],
   "source": [
    "#visualize the closing price history\n",
    "plt.figure(figsize=(12,6))\n",
    "plt.title('Close Price History')\n",
    "plt.plot(df['Close'])\n",
    "plt.xlabel('Date', fontsize=18)\n",
    "plt.ylabel('Close Price (USD)', fontsize=18)"
   ]
  },
  {
   "cell_type": "code",
   "execution_count": 65,
   "metadata": {},
   "outputs": [
    {
     "data": {
      "text/plain": [
       "1206"
      ]
     },
     "execution_count": 65,
     "metadata": {},
     "output_type": "execute_result"
    }
   ],
   "source": [
    "#Create a new dataframe with only the Close column\n",
    "data = df.filter(['Close'])\n",
    "#Convert the dataframe to a numpy array\n",
    "dataset = data.values\n",
    "#Get the number of rows to train the model on\n",
    "training_data_len = math.ceil(len(dataset)*0.8)\n",
    "training_data_len"
   ]
  },
  {
   "cell_type": "code",
   "execution_count": 66,
   "metadata": {},
   "outputs": [
    {
     "data": {
      "text/plain": [
       "array([[0.02270565],\n",
       "       [0.01993799],\n",
       "       [0.0202952 ],\n",
       "       ...,\n",
       "       [0.91796073],\n",
       "       [0.92642575],\n",
       "       [0.95012505]])"
      ]
     },
     "execution_count": 66,
     "metadata": {},
     "output_type": "execute_result"
    }
   ],
   "source": [
    "#scale the data\n",
    "scaler = MinMaxScaler(feature_range=(0,1))\n",
    "scaled_data = scaler.fit_transform(dataset)\n",
    "scaled_data"
   ]
  },
  {
   "cell_type": "code",
   "execution_count": 67,
   "metadata": {},
   "outputs": [
    {
     "name": "stdout",
     "output_type": "stream",
     "text": [
      "[array([0.02270565, 0.01993799, 0.0202952 , 0.02019614, 0.02009708,\n",
      "       0.01890837, 0.01757256, 0.01818493, 0.01471484, 0.0144687 ,\n",
      "       0.01482891, 0.01448671, 0.01587954, 0.01739546, 0.0172964 ,\n",
      "       0.01887535, 0.01870424, 0.01672005, 0.0184701 , 0.01798981,\n",
      "       0.02019314, 0.02242048, 0.02247751, 0.02320995, 0.0221203 ,\n",
      "       0.02215631, 0.0217991 , 0.02075147, 0.01777368, 0.01804085,\n",
      "       0.01821495, 0.01824797, 0.02042427, 0.02204525, 0.01911249,\n",
      "       0.0181429 , 0.01803784, 0.01906746, 0.01791176, 0.01610768,\n",
      "       0.01677708, 0.0176416 , 0.01709828, 0.01507206, 0.01417152,\n",
      "       0.01400342, 0.01503004, 0.01422855, 0.01351112, 0.01561839,\n",
      "       0.01532721, 0.01712229, 0.01560338, 0.01633282, 0.01679809,\n",
      "       0.01742548, 0.01519814, 0.01403043, 0.01240646, 0.01407846])]\n",
      "[0.013538139954597857]\n",
      "\n"
     ]
    }
   ],
   "source": [
    "#Create the training data set\n",
    "#Create the scaled training data set\n",
    "train_data = scaled_data[0:training_data_len, :]\n",
    "#split the data into X_train and y_train data sets\n",
    "X_train = []\n",
    "y_train = []\n",
    "\n",
    "for i in range(60, len(train_data)):\n",
    "    X_train.append(train_data[i-60:i, 0])\n",
    "    y_train.append(train_data[i, 0])\n",
    "    if i<= 60:\n",
    "        print(X_train)\n",
    "        print(y_train)\n",
    "        print()"
   ]
  },
  {
   "cell_type": "code",
   "execution_count": 68,
   "metadata": {},
   "outputs": [],
   "source": [
    "#Convert the X_train and y_train to numpy arrays\n",
    "X_train, y_train = np.array(X_train), np.array(y_train)"
   ]
  },
  {
   "cell_type": "code",
   "execution_count": 69,
   "metadata": {},
   "outputs": [
    {
     "data": {
      "text/plain": [
       "(1146, 60, 1)"
      ]
     },
     "execution_count": 69,
     "metadata": {},
     "output_type": "execute_result"
    }
   ],
   "source": [
    "#Reshape the dataX_train.shape\n",
    "X_train.shape\n",
    "X_train = np.reshape(X_train,(X_train.shape[0],X_train.shape[1],1))\n",
    "X_train.shape"
   ]
  },
  {
   "cell_type": "code",
   "execution_count": 70,
   "metadata": {},
   "outputs": [],
   "source": [
    "#Build the LSTM model\n",
    "model = Sequential()\n",
    "model.add(LSTM(50, return_sequences=True, input_shape=(X_train.shape[1], 1)))\n",
    "model.add(LSTM(50, return_sequences=False))\n",
    "model.add(Dense(25))\n",
    "model.add(Dense(1))"
   ]
  },
  {
   "cell_type": "code",
   "execution_count": 71,
   "metadata": {},
   "outputs": [],
   "source": [
    "#Compile the model\n",
    "model.compile(optimizer='adam', loss='mean_squared_error')\n",
    "#model.compile(optimizer='sgd', loss='mean_squared_error')\n",
    "#sgd - stochastic gradient descent\n",
    "# Adam is a popular algorithm in the field of deep learning because it achieves good results fast."
   ]
  },
  {
   "cell_type": "code",
   "execution_count": 72,
   "metadata": {
    "scrolled": true
   },
   "outputs": [
    {
     "name": "stdout",
     "output_type": "stream",
     "text": [
      "Epoch 1/3\n",
      "1146/1146 [==============================] - 17s 15ms/step - loss: 4.8946e-05\n",
      "Epoch 2/3\n",
      "1146/1146 [==============================] - 17s 15ms/step - loss: 2.5000e-05\n",
      "Epoch 3/3\n",
      "1146/1146 [==============================] - 17s 15ms/step - loss: 1.9607e-05\n"
     ]
    },
    {
     "data": {
      "text/plain": [
       "<tensorflow.python.keras.callbacks.History at 0x7ff646044220>"
      ]
     },
     "execution_count": 72,
     "metadata": {},
     "output_type": "execute_result"
    }
   ],
   "source": [
    "#Train the model\n",
    "model.fit(X_train, y_train, batch_size = 1, epochs = 3)\n",
    "# One Epoch is when an ENTIRE dataset is passed forward and backward through the neural network only ONCE.\n",
    "# Total number of training examples present in a single batch.\n",
    "# We can’t pass the entire dataset into the neural net at once. So, we divide dataset into Number of Batches or sets or parts.\n"
   ]
  },
  {
   "cell_type": "code",
   "execution_count": 73,
   "metadata": {},
   "outputs": [],
   "source": [
    "# Create the testing data set\n",
    "# Create a new array containing scaled values from index 1543 to 2003\n",
    "test_data = scaled_data[training_data_len - 60: , :]\n",
    "#Create the data sets X_test and y_test\n",
    "X_test = []\n",
    "y_test = dataset[training_data_len:, :]\n",
    "for i in range(60, len(test_data)):\n",
    "    X_test.append(test_data[i-60:i, 0])    "
   ]
  },
  {
   "cell_type": "code",
   "execution_count": 74,
   "metadata": {},
   "outputs": [],
   "source": [
    "#Convert the data to a numpy array\n",
    "X_test = np.array(X_test)\n"
   ]
  },
  {
   "cell_type": "code",
   "execution_count": 75,
   "metadata": {},
   "outputs": [],
   "source": [
    "#Reshaoe the data\n",
    "X_test = np.reshape(X_test, (X_test.shape[0], X_test.shape[1], 1))"
   ]
  },
  {
   "cell_type": "code",
   "execution_count": 76,
   "metadata": {},
   "outputs": [],
   "source": [
    "#Get the models predicted price values\n",
    "predictions = model.predict(X_test)\n",
    "predictions = scaler.inverse_transform(predictions)"
   ]
  },
  {
   "cell_type": "code",
   "execution_count": 77,
   "metadata": {},
   "outputs": [
    {
     "data": {
      "text/plain": [
       "0.9524962212952268"
      ]
     },
     "execution_count": 77,
     "metadata": {},
     "output_type": "execute_result"
    }
   ],
   "source": [
    "#Evaluate the model using root mean squared error (RMSE)\n",
    "rmse = np.sqrt(np.mean(predictions - y_test)**2)\n",
    "rmse"
   ]
  },
  {
   "cell_type": "code",
   "execution_count": 78,
   "metadata": {},
   "outputs": [
    {
     "name": "stderr",
     "output_type": "stream",
     "text": [
      "<ipython-input-78-6c6e0146b69c>:4: SettingWithCopyWarning: \n",
      "A value is trying to be set on a copy of a slice from a DataFrame.\n",
      "Try using .loc[row_indexer,col_indexer] = value instead\n",
      "\n",
      "See the caveats in the documentation: https://pandas.pydata.org/pandas-docs/stable/user_guide/indexing.html#returning-a-view-versus-a-copy\n",
      "  valid['Predictions'] = predictions\n"
     ]
    },
    {
     "data": {
      "text/plain": [
       "<matplotlib.legend.Legend at 0x7ff628a74df0>"
      ]
     },
     "execution_count": 78,
     "metadata": {},
     "output_type": "execute_result"
    },
    {
     "data": {
      "image/png": "[encoded data removed]",
      "text/plain": [
       "<Figure size 864x432 with 1 Axes>"
      ]
     },
     "metadata": {},
     "output_type": "display_data"
    }
   ],
   "source": [
    "#Plot the data\n",
    "train = data[:training_data_len]\n",
    "valid = data[training_data_len:]\n",
    "valid['Predictions'] = predictions\n",
    "#Visualize the data\n",
    "plt.figure(figsize=(12,6))\n",
    "plt.title('Model')\n",
    "plt.plot(df['Close'])\n",
    "plt.xlabel('Date', fontsize=18)\n",
    "plt.ylabel('Close Price (USD)', fontsize=18)\n",
    "plt.plot(train['Close'])\n",
    "plt.plot(valid[['Close', 'Predictions']])\n",
    "plt.legend(['Train', 'Val', 'Prediction'])"
   ]
  },
  {
   "cell_type": "code",
   "execution_count": null,
   "metadata": {},
   "outputs": [],
   "source": []
  }
 ],
 "metadata": {
  "kernelspec": {
   "display_name": "Python 3",
   "language": "python",
   "name": "python3"
  },
  "language_info": {
   "codemirror_mode": {
    "name": "ipython",
    "version": 3
   },
   "file_extension": ".py",
   "mimetype": "text/x-python",
   "name": "python",
   "nbconvert_exporter": "python",
   "pygments_lexer": "ipython3",
   "version": "3.8.3"
  }
 },
 "nbformat": 4,
 "nbformat_minor": 4
}
